{
 "cells": [
  {
   "cell_type": "code",
   "execution_count": 1,
   "metadata": {},
   "outputs": [],
   "source": [
    "import torch \n",
    "import torch.nn as nn \n",
    "from torchvision.models import resnet34\n",
    "from torch.nn import functional as F "
   ]
  },
  {
   "cell_type": "code",
   "execution_count": 3,
   "metadata": {},
   "outputs": [],
   "source": [
    "conv = nn.Conv2d(in_channels=3, out_channels=6, kernel_size=3)\n"
   ]
  },
  {
   "cell_type": "code",
   "execution_count": 4,
   "metadata": {},
   "outputs": [
    {
     "data": {
      "text/plain": [
       "Parameter containing:\n",
       "tensor([[[[ 0.0648, -0.1850,  0.0707],\n",
       "          [-0.1325,  0.0300, -0.0795],\n",
       "          [ 0.1155, -0.0115,  0.0565]],\n",
       "\n",
       "         [[ 0.1660,  0.1732, -0.0268],\n",
       "          [-0.1164,  0.1017, -0.0450],\n",
       "          [-0.0004,  0.0648, -0.0994]],\n",
       "\n",
       "         [[ 0.1171,  0.0052,  0.0653],\n",
       "          [-0.0173, -0.1850, -0.0912],\n",
       "          [-0.1784, -0.1180, -0.0352]]],\n",
       "\n",
       "\n",
       "        [[[ 0.0879,  0.0960, -0.0871],\n",
       "          [ 0.1294, -0.0181,  0.0526],\n",
       "          [ 0.0110, -0.0254,  0.0074]],\n",
       "\n",
       "         [[ 0.0853,  0.0012,  0.0318],\n",
       "          [ 0.0200, -0.1318, -0.1448],\n",
       "          [-0.0390,  0.1393,  0.0850]],\n",
       "\n",
       "         [[-0.1263, -0.1523, -0.0831],\n",
       "          [-0.0905,  0.0692,  0.0538],\n",
       "          [-0.0619, -0.0501,  0.1623]]],\n",
       "\n",
       "\n",
       "        [[[-0.0817, -0.1621, -0.1387],\n",
       "          [ 0.0851, -0.1651, -0.1583],\n",
       "          [ 0.0516, -0.0330,  0.1190]],\n",
       "\n",
       "         [[ 0.0483,  0.1179, -0.0136],\n",
       "          [-0.1611,  0.0662,  0.1011],\n",
       "          [ 0.1915,  0.1837,  0.0563]],\n",
       "\n",
       "         [[ 0.1255,  0.1567, -0.0325],\n",
       "          [ 0.1009, -0.1053,  0.1174],\n",
       "          [ 0.1276, -0.0076,  0.0924]]],\n",
       "\n",
       "\n",
       "        [[[-0.1891, -0.0855,  0.1905],\n",
       "          [ 0.0077, -0.0274, -0.1222],\n",
       "          [-0.1834,  0.0392, -0.1567]],\n",
       "\n",
       "         [[-0.0221,  0.1262,  0.0243],\n",
       "          [ 0.1344, -0.0801,  0.1080],\n",
       "          [ 0.1072, -0.0956, -0.0950]],\n",
       "\n",
       "         [[-0.1581,  0.1409, -0.1004],\n",
       "          [-0.1841, -0.0139, -0.0659],\n",
       "          [ 0.0056, -0.1064,  0.1897]]],\n",
       "\n",
       "\n",
       "        [[[-0.0244, -0.1737, -0.1503],\n",
       "          [-0.1124,  0.0060, -0.1808],\n",
       "          [-0.1565, -0.0356,  0.1257]],\n",
       "\n",
       "         [[ 0.0026, -0.0245,  0.0641],\n",
       "          [ 0.0669,  0.0062,  0.0076],\n",
       "          [-0.1773, -0.1362, -0.0566]],\n",
       "\n",
       "         [[ 0.0037,  0.0415,  0.1593],\n",
       "          [ 0.1262,  0.0501, -0.1405],\n",
       "          [-0.0375, -0.0100, -0.0507]]],\n",
       "\n",
       "\n",
       "        [[[ 0.1724,  0.1905, -0.1064],\n",
       "          [-0.1763, -0.1648, -0.1727],\n",
       "          [-0.0605,  0.0649,  0.1428]],\n",
       "\n",
       "         [[-0.1418,  0.0014,  0.0492],\n",
       "          [-0.0405,  0.1547, -0.0680],\n",
       "          [-0.1470, -0.0713, -0.0129]],\n",
       "\n",
       "         [[ 0.1234,  0.0381,  0.1895],\n",
       "          [ 0.0904, -0.1161,  0.0083],\n",
       "          [-0.1319, -0.0691, -0.1149]]]], requires_grad=True)"
      ]
     },
     "execution_count": 4,
     "metadata": {},
     "output_type": "execute_result"
    }
   ],
   "source": [
    "conv.weight"
   ]
  },
  {
   "cell_type": "code",
   "execution_count": 2,
   "metadata": {},
   "outputs": [],
   "source": [
    "model = resnet34()"
   ]
  },
  {
   "cell_type": "code",
   "execution_count": 7,
   "metadata": {},
   "outputs": [
    {
     "data": {
      "text/plain": [
       "('avgpool', AdaptiveAvgPool2d(output_size=(1, 1)))"
      ]
     },
     "execution_count": 7,
     "metadata": {},
     "output_type": "execute_result"
    }
   ],
   "source": [
    "[*model.named_children()][-2]"
   ]
  },
  {
   "cell_type": "code",
   "execution_count": null,
   "metadata": {},
   "outputs": [],
   "source": []
  },
  {
   "cell_type": "code",
   "execution_count": null,
   "metadata": {},
   "outputs": [],
   "source": []
  }
 ],
 "metadata": {
  "kernelspec": {
   "display_name": "tmss",
   "language": "python",
   "name": "python3"
  },
  "language_info": {
   "codemirror_mode": {
    "name": "ipython",
    "version": 3
   },
   "file_extension": ".py",
   "mimetype": "text/x-python",
   "name": "python",
   "nbconvert_exporter": "python",
   "pygments_lexer": "ipython3",
   "version": "3.8.1"
  }
 },
 "nbformat": 4,
 "nbformat_minor": 2
}
